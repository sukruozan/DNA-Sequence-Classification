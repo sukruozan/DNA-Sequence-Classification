{
 "cells": [
  {
   "cell_type": "code",
   "execution_count": 2,
   "metadata": {},
   "outputs": [],
   "source": [
    "import numpy as np # linear algebra\n",
    "import pandas as pd # data processing, CSV file I/O (e.g. pd.read_csv)\n",
    "import os\n",
    "import matplotlib.pyplot as plt\n",
    "import argparse\n",
    "import pandas as pd\n",
    "import os \n",
    "from functools import partial\n",
    "from pathos.multiprocessing import ProcessingPool as Pool\n",
    "import gzip\n",
    "import snappy\n",
    "import time\n",
    "\n",
    "%matplotlib inline"
   ]
  },
  {
   "cell_type": "code",
   "execution_count": 8,
   "metadata": {},
   "outputs": [],
   "source": [
    "def create_data_sets(df, train_percent=0.1):\n",
    "    # shuffle the data\n",
    "    df = df.sample(frac=1).reset_index(drop=True)\n",
    "    # split the data\n",
    "    train_size = int(len(df) * 1.0)\n",
    "    df = df[:train_size]\n",
    "    train_size = int(len(df) * train_percent)\n",
    "    train_df = df[:train_size]\n",
    "    test_df = df[train_size:]\n",
    "    return train_df, test_df\n",
    "\n",
    "# function to calculate distance between two entries in train and test\n",
    "# returns the distance between the two entries\n",
    "def distance_calc(compression, test, train, i, j):\n",
    "    # get the ith row from test and jth row from train\n",
    "    # calculate the distance between the two rows using cosine similarity\n",
    "    # return the distance\n",
    "\n",
    "    test_string = test.iloc[i]['sequence']\n",
    "    train_string = train.iloc[j]['sequence']\n",
    "\n",
    "    encoding = 'utf-8'\n",
    "    # set the compression algorithm\n",
    "    # calculate the distance between the two strings\n",
    "    # print progress percentage to stdout with 2 decimal places\n",
    "    # Access the compression module from the global scope\n",
    "    compressor = globals().get(compression)\n",
    "    if compressor is None:\n",
    "        raise ValueError(f\"Compression method '{compression}' is not available.\")\n",
    "\n",
    "    Cx1 = len(compressor.compress(test_string.encode(encoding)))\n",
    "    Cx2 = len(compressor.compress(train_string.encode(encoding)))\n",
    "    Cx1x2 = len(compressor.compress((\" \".join([test_string, train_string])).encode(encoding)))\n",
    "\n",
    "    distance = (Cx1x2 - min(Cx1, Cx2)) / max(Cx1, Cx2)\n",
    "    return [i, j, distance]\n",
    "\n",
    "# create distance matrix\n",
    "# returns a distance matrix\n",
    "def create_distance_matrix(train, test, pool, compression='gzip'):\n",
    "    # create an empty matrix of size len(test) x len(train)\n",
    "    # iterate over each row in train and test and calculate distance using pool\n",
    "    # return the distance matrix\n",
    "    distance_matrix = np.zeros((len(test), len(train)))\n",
    "    # pool calculation with two ranges\n",
    "    \n",
    "    for i in range(len(test)):\n",
    "        result = pool.map(partial(distance_calc, compression, test, train, i), range(len(train)))\n",
    "        for j in result:\n",
    "            distance_matrix[j[0]][j[1]] = j[2]\n",
    "        print('Progress: {:.2f}%'.format((i) / (len(test)) * 100), end='\\r')    \n",
    "    return distance_matrix"
   ]
  },
  {
   "cell_type": "code",
   "execution_count": 9,
   "metadata": {},
   "outputs": [
    {
     "data": {
      "text/html": [
       "<div>\n",
       "<style scoped>\n",
       "    .dataframe tbody tr th:only-of-type {\n",
       "        vertical-align: middle;\n",
       "    }\n",
       "\n",
       "    .dataframe tbody tr th {\n",
       "        vertical-align: top;\n",
       "    }\n",
       "\n",
       "    .dataframe thead th {\n",
       "        text-align: right;\n",
       "    }\n",
       "</style>\n",
       "<table border=\"1\" class=\"dataframe\">\n",
       "  <thead>\n",
       "    <tr style=\"text-align: right;\">\n",
       "      <th></th>\n",
       "      <th>sequence</th>\n",
       "      <th>class</th>\n",
       "    </tr>\n",
       "  </thead>\n",
       "  <tbody>\n",
       "    <tr>\n",
       "      <th>0</th>\n",
       "      <td>ATGCCCCAACTAAATACTACCGTATGGCCCACCATAATTACCCCCA...</td>\n",
       "      <td>4</td>\n",
       "    </tr>\n",
       "    <tr>\n",
       "      <th>1</th>\n",
       "      <td>ATGAACGAAAATCTGTTCGCTTCATTCATTGCCCCCACAATCCTAG...</td>\n",
       "      <td>4</td>\n",
       "    </tr>\n",
       "    <tr>\n",
       "      <th>2</th>\n",
       "      <td>ATGTGTGGCATTTGGGCGCTGTTTGGCAGTGATGATTGCCTTTCTG...</td>\n",
       "      <td>3</td>\n",
       "    </tr>\n",
       "    <tr>\n",
       "      <th>3</th>\n",
       "      <td>ATGTGTGGCATTTGGGCGCTGTTTGGCAGTGATGATTGCCTTTCTG...</td>\n",
       "      <td>3</td>\n",
       "    </tr>\n",
       "    <tr>\n",
       "      <th>4</th>\n",
       "      <td>ATGCAACAGCATTTTGAATTTGAATACCAGACCAAAGTGGATGGTG...</td>\n",
       "      <td>3</td>\n",
       "    </tr>\n",
       "  </tbody>\n",
       "</table>\n",
       "</div>"
      ],
      "text/plain": [
       "                                            sequence  class\n",
       "0  ATGCCCCAACTAAATACTACCGTATGGCCCACCATAATTACCCCCA...      4\n",
       "1  ATGAACGAAAATCTGTTCGCTTCATTCATTGCCCCCACAATCCTAG...      4\n",
       "2  ATGTGTGGCATTTGGGCGCTGTTTGGCAGTGATGATTGCCTTTCTG...      3\n",
       "3  ATGTGTGGCATTTGGGCGCTGTTTGGCAGTGATGATTGCCTTTCTG...      3\n",
       "4  ATGCAACAGCATTTTGAATTTGAATACCAGACCAAAGTGGATGGTG...      3"
      ]
     },
     "execution_count": 9,
     "metadata": {},
     "output_type": "execute_result"
    }
   ],
   "source": [
    "human_dna = pd.read_table('human.txt')\n",
    "human_dna.head()"
   ]
  },
  {
   "cell_type": "code",
   "execution_count": 10,
   "metadata": {},
   "outputs": [
    {
     "data": {
      "text/plain": [
       "(4380, 2)"
      ]
     },
     "execution_count": 10,
     "metadata": {},
     "output_type": "execute_result"
    }
   ],
   "source": [
    "human_dna.shape"
   ]
  },
  {
   "cell_type": "code",
   "execution_count": 11,
   "metadata": {},
   "outputs": [
    {
     "name": "stdout",
     "output_type": "stream",
     "text": [
      "3504\n",
      "876\n"
     ]
    }
   ],
   "source": [
    "train_df, test_df = create_data_sets(human_dna, train_percent=0.8)\n",
    "print(len(train_df))\n",
    "print(len(test_df))"
   ]
  },
  {
   "cell_type": "code",
   "execution_count": 12,
   "metadata": {},
   "outputs": [
    {
     "name": "stdout",
     "output_type": "stream",
     "text": [
      "Progress: 99.89%\r"
     ]
    }
   ],
   "source": [
    "pool = Pool(8)\n",
    "distance_matrix = create_distance_matrix(train_df, test_df, pool, compression='snappy')"
   ]
  },
  {
   "cell_type": "code",
   "execution_count": 13,
   "metadata": {},
   "outputs": [
    {
     "name": "stdout",
     "output_type": "stream",
     "text": [
      "(876, 3504)\n",
      "[6, 0, 4, 0, 2, 6, 5, 6, 6, 5, 1, 6, 4, 1, 6, 0, 4, 4, 6, 6, 6, 3, 2, 4, 6, 5, 1, 3, 3, 6, 4, 3, 6, 4, 6, 2, 2, 2, 2, 6, 0, 3, 0, 3, 4, 0, 0, 6, 2, 6, 1, 6, 5, 6, 0, 6, 6, 3, 6, 4, 6, 4, 6, 6, 6, 3, 6, 6, 1, 4, 3, 1, 0, 6, 6, 3, 4, 6, 6, 6, 1, 6, 4, 6, 4, 1, 6, 6, 1, 1, 6, 2, 0, 6, 5, 4, 4, 4, 3, 6, 2, 6, 5, 1, 6, 0, 1, 3, 0, 3, 6, 4, 1, 2, 4, 6, 5, 6, 1, 6, 5, 0, 3, 6, 6, 1, 0, 1, 2, 1, 3, 2, 4, 5, 2, 2, 1, 3, 6, 2, 6, 5, 2, 4, 1, 0, 4, 6, 6, 1, 4, 4, 4, 2, 3, 6, 6, 6, 1, 4, 3, 3, 3, 3, 3, 3, 6, 3, 4, 6, 3, 0, 4, 2, 6, 4, 6, 3, 4, 2, 5, 1, 2, 3, 0, 4, 5, 3, 6, 0, 0, 1, 5, 0, 1, 1, 6, 2, 6, 6, 1, 4, 2, 1, 4, 4, 2, 0, 5, 6, 4, 2, 0, 4, 3, 0, 3, 3, 6, 6, 0, 1, 6, 1, 0, 1, 6, 4, 5, 6, 0, 6, 6, 3, 2, 6, 2, 6, 1, 3, 2, 5, 5, 6, 5, 6, 3, 0, 1, 3, 4, 6, 3, 6, 6, 1, 4, 1, 0, 1, 3, 6, 0, 5, 5, 6, 1, 3, 3, 6, 6, 1, 3, 2, 1, 4, 1, 6, 2, 4, 5, 5, 5, 3, 4, 6, 0, 2, 6, 2, 2, 6, 6, 3, 3, 6, 3, 0, 3, 4, 0, 3, 4, 4, 3, 0, 6, 4, 1, 3, 6, 1, 6, 2, 6, 6, 3, 1, 6, 3, 6, 6, 0, 5, 4, 1, 3, 1, 3, 4, 2, 6, 4, 4, 6, 6, 1, 0, 5, 6, 6, 1, 4, 0, 6, 1, 4, 4, 5, 2, 6, 3, 2, 0, 0, 5, 2, 0, 1, 6, 1, 6, 4, 6, 6, 6, 1, 3, 6, 3, 6, 3, 4, 6, 6, 6, 6, 4, 1, 0, 6, 4, 0, 0, 6, 6, 0, 6, 3, 3, 4, 6, 0, 3, 6, 4, 4, 3, 6, 6, 4, 6, 1, 5, 6, 3, 5, 0, 0, 1, 5, 2, 3, 1, 6, 0, 1, 6, 6, 6, 4, 6, 4, 5, 3, 3, 6, 0, 4, 6, 6, 3, 3, 5, 5, 1, 4, 2, 6, 4, 2, 6, 1, 2, 6, 6, 6, 6, 4, 0, 0, 2, 0, 6, 6, 6, 6, 6, 2, 2, 5, 6, 1, 6, 4, 6, 6, 4, 5, 6, 0, 1, 3, 4, 1, 6, 2, 4, 1, 6, 6, 5, 6, 4, 4, 3, 3, 3, 2, 0, 1, 6, 6, 6, 6, 2, 6, 5, 5, 1, 6, 6, 6, 4, 6, 3, 1, 3, 0, 0, 1, 6, 0, 6, 5, 1, 0, 4, 3, 0, 4, 4, 6, 3, 1, 1, 3, 4, 3, 6, 0, 2, 6, 5, 6, 6, 0, 4, 5, 2, 4, 4, 3, 3, 4, 5, 6, 0, 0, 3, 0, 4, 2, 2, 1, 3, 6, 5, 4, 6, 2, 4, 6, 4, 1, 6, 3, 6, 6, 6, 6, 0, 4, 1, 6, 2, 6, 4, 3, 3, 4, 6, 4, 6, 4, 1, 2, 6, 2, 3, 3, 6, 0, 3, 6, 1, 6, 3, 3, 3, 3, 6, 1, 0, 6, 0, 2, 6, 6, 1, 6, 1, 6, 6, 4, 6, 5, 3, 6, 6, 3, 1, 6, 6, 6, 4, 4, 5, 4, 0, 0, 4, 3, 6, 2, 6, 6, 6, 6, 4, 0, 4, 6, 6, 5, 6, 6, 1, 3, 4, 0, 1, 2, 5, 4, 6, 6, 3, 4, 6, 6, 3, 4, 1, 0, 6, 0, 4, 0, 0, 4, 4, 1, 4, 4, 6, 4, 3, 1, 6, 3, 3, 4, 0, 6, 0, 4, 1, 1, 5, 2, 3, 5, 5, 2, 1, 4, 0, 3, 6, 1, 3, 0, 3, 4, 4, 2, 5, 6, 2, 6, 3, 4, 0, 4, 6, 0, 1, 6, 0, 2, 3, 4, 6, 2, 2, 1, 2, 3, 2, 6, 4, 0, 4, 4, 2, 6, 2, 4, 1, 0, 1, 3, 1, 4, 6, 6, 6, 5, 6, 4, 2, 3, 0, 5, 2, 6, 5, 4, 4, 1, 2, 4, 1, 1, 2, 1, 2, 6, 3, 3, 6, 0, 3, 4, 6, 2, 6, 6, 6, 6, 6, 3, 0, 6, 4, 6, 5, 6, 1, 6, 3, 3, 4, 6, 3, 6, 4, 4, 0, 6, 5, 6, 3, 1, 3, 1, 6, 6, 4, 4, 4, 3, 4, 1, 3, 2, 2, 1, 2, 4, 6, 1, 4, 4, 6, 4, 3, 1, 6, 6, 4, 3, 6, 6, 5, 4, 6, 1, 3, 5, 6, 6, 6, 4, 1, 4, 4, 6, 6, 4, 4, 1, 4, 2, 6, 6, 2, 6, 1, 4, 3, 6, 3, 6, 1, 0, 6, 2, 6, 1, 5, 6, 5, 4, 1]\n",
      "[6 0 4 0 2 6 0 6 6 5 1 3 4 1 6 0 4 4 6 6 6 3 2 0 6 5 1 3 6 6 6 3 6 4 6 2 2\n",
      " 2 2 6 0 5 0 3 4 4 0 6 2 6 1 6 5 6 0 6 1 3 6 4 6 4 6 6 6 3 6 6 1 4 3 1 0 6\n",
      " 6 6 4 6 6 6 1 6 4 6 4 1 6 6 1 6 6 2 0 6 6 4 4 4 3 6 2 6 5 1 6 0 1 1 0 3 6\n",
      " 4 1 2 4 6 3 6 1 6 5 0 3 6 6 1 0 1 2 3 3 2 4 5 2 2 1 3 6 2 6 5 2 4 1 0 4 6\n",
      " 6 1 4 4 4 2 3 6 6 6 1 4 3 3 3 3 3 3 6 3 4 6 3 0 4 2 6 4 6 3 4 2 5 6 2 3 0\n",
      " 4 4 3 4 0 0 1 5 0 1 1 6 2 6 6 1 0 2 1 4 4 2 0 4 0 4 2 3 4 3 0 3 3 6 6 0 1\n",
      " 6 1 0 1 6 4 5 6 0 6 6 3 2 6 2 6 1 2 2 5 5 6 5 6 3 0 1 3 4 6 3 6 6 1 4 1 0\n",
      " 1 6 6 0 6 5 1 1 3 3 6 6 1 3 2 6 4 1 6 2 6 5 5 5 3 4 6 0 2 6 2 2 6 6 3 6 6\n",
      " 3 0 3 4 0 3 4 4 3 0 6 4 1 3 6 1 6 2 6 6 3 1 6 3 6 6 0 0 4 1 3 1 3 4 2 6 4\n",
      " 6 6 6 1 0 5 1 6 1 5 1 6 1 4 4 0 2 6 3 2 0 0 5 2 0 1 6 1 6 4 6 6 6 1 3 6 3\n",
      " 6 3 4 6 6 6 6 4 1 0 6 4 0 0 6 6 0 0 3 3 4 6 0 3 6 4 4 3 6 6 4 6 1 6 6 1 5\n",
      " 0 4 6 5 0 3 1 6 0 1 6 6 6 4 6 4 5 2 3 6 0 4 6 0 3 3 0 5 1 4 2 6 4 2 6 1 2\n",
      " 6 6 6 6 4 0 0 2 0 6 6 6 6 6 2 2 5 0 1 6 4 6 6 3 5 3 0 1 3 4 1 6 2 6 1 6 6\n",
      " 5 6 4 4 3 3 3 2 0 1 6 6 6 6 2 0 5 3 1 6 6 6 4 6 3 1 3 0 0 1 6 0 6 5 1 0 4\n",
      " 3 0 4 4 6 3 1 1 3 4 3 4 0 2 6 5 6 6 0 4 5 2 4 4 3 3 4 0 6 0 0 0 0 4 2 2 1\n",
      " 3 6 5 4 6 2 4 6 4 1 6 3 6 6 6 1 0 4 1 6 2 6 4 3 3 4 6 4 6 4 1 2 6 2 3 3 6\n",
      " 0 3 6 1 6 3 3 3 3 6 1 0 6 0 2 6 6 1 6 1 4 6 4 6 5 3 6 6 3 1 6 0 6 4 4 5 4\n",
      " 6 0 4 3 6 2 6 3 6 6 4 0 4 6 1 5 6 6 1 3 4 0 1 2 6 4 6 6 3 4 6 6 3 4 1 0 6\n",
      " 0 4 0 0 4 4 5 4 4 4 4 3 1 0 3 3 4 0 6 0 4 1 1 5 2 3 6 5 2 1 4 0 3 6 1 3 0\n",
      " 3 3 4 2 5 6 2 6 3 4 0 4 6 0 1 6 0 2 3 4 6 2 2 1 2 3 2 6 4 0 2 4 2 6 2 4 1\n",
      " 0 1 3 1 4 6 6 6 5 6 4 2 3 0 0 2 6 5 4 4 1 2 6 1 1 2 1 2 6 3 3 6 0 3 4 6 2\n",
      " 6 6 6 6 6 3 0 6 4 6 5 6 1 6 3 3 4 6 3 6 4 4 0 6 5 6 3 1 3 1 6 0 4 4 4 3 4\n",
      " 1 3 2 2 1 2 4 6 1 6 4 6 4 3 1 6 3 4 3 1 3 5 4 6 1 3 5 6 6 6 4 1 4 3 0 6 4\n",
      " 4 1 4 2 6 6 2 6 1 4 3 6 3 6 1 0 6 2 6 1 5 6 6 4 1]\n",
      "0.9143835616438356\n"
     ]
    }
   ],
   "source": [
    "# size of distance matrix\n",
    "print(distance_matrix.shape)\n",
    "\n",
    "# return the index of the minimum value in the rows of distance matrix\n",
    "predictions = []\n",
    "for i in range(distance_matrix.shape[0]):\n",
    "    # return the indices of the first 5 minimum values in the row\n",
    "    indices = np.argmin(distance_matrix[i, :])\n",
    "    labels = train_df['class'][indices]\n",
    "    # get the common label\n",
    "    predictions.append(labels)\n",
    "\n",
    "# get the actual labels\n",
    "labels = test_df['class'].values\n",
    "# print the predictions\n",
    "print(predictions)\n",
    "# print the actual labels\n",
    "print(labels)\n",
    "\n",
    "# calculate accuracy\n",
    "accuracy = np.sum(predictions == labels) / len(labels)\n",
    "\n",
    "# print the accuracy\n",
    "print(accuracy)\n",
    "\n"
   ]
  },
  {
   "cell_type": "code",
   "execution_count": 16,
   "metadata": {},
   "outputs": [
    {
     "name": "stdout",
     "output_type": "stream",
     "text": [
      "[[ 84.   1.   0.   1.   2.   0.   1.]\n",
      " [  0. 103.   0.   1.   0.   1.   4.]\n",
      " [  1.   0.  80.   0.   0.   0.   0.]\n",
      " [  1.   2.   2. 114.   0.   1.   4.]\n",
      " [  2.   0.   1.   3. 135.   1.   6.]\n",
      " [  6.   0.   0.   2.   2.  44.   6.]\n",
      " [  9.   6.   0.   5.   4.   0. 241.]]\n"
     ]
    }
   ],
   "source": [
    "# create confusion matrix\n",
    "def create_confusion_matrix(predictions, labels):\n",
    "    # create an empty confusion matrix of size 4x4\n",
    "    # iterate over each prediction and label and update the confusion matrix\n",
    "    # return the confusion matrix\n",
    "    confusion_matrix = np.zeros((7, 7))\n",
    "    for i in range(len(predictions)):\n",
    "        confusion_matrix[predictions[i]][labels[i]] += 1\n",
    "    return confusion_matrix\n",
    "\n",
    "# print the confusion matrix\n",
    "print(create_confusion_matrix(predictions, labels))"
   ]
  },
  {
   "cell_type": "code",
   "execution_count": 4,
   "metadata": {},
   "outputs": [
    {
     "data": {
      "text/plain": [
       "Text(0.5, 1.0, 'Class distribution of Human DNA')"
      ]
     },
     "execution_count": 4,
     "metadata": {},
     "output_type": "execute_result"
    },
    {
     "data": {
      "image/png": "[encoded data removed]",
      "text/plain": [
       "<Figure size 640x480 with 1 Axes>"
      ]
     },
     "metadata": {},
     "output_type": "display_data"
    }
   ],
   "source": [
    "human_dna['class'].value_counts().sort_index().plot.bar()\n",
    "plt.title(\"Class distribution of Human DNA\")"
   ]
  },
  {
   "cell_type": "code",
   "execution_count": 6,
   "metadata": {},
   "outputs": [
    {
     "data": {
      "text/html": [
       "<div>\n",
       "<style scoped>\n",
       "    .dataframe tbody tr th:only-of-type {\n",
       "        vertical-align: middle;\n",
       "    }\n",
       "\n",
       "    .dataframe tbody tr th {\n",
       "        vertical-align: top;\n",
       "    }\n",
       "\n",
       "    .dataframe thead th {\n",
       "        text-align: right;\n",
       "    }\n",
       "</style>\n",
       "<table border=\"1\" class=\"dataframe\">\n",
       "  <thead>\n",
       "    <tr style=\"text-align: right;\">\n",
       "      <th></th>\n",
       "      <th>sequence</th>\n",
       "      <th>class</th>\n",
       "    </tr>\n",
       "  </thead>\n",
       "  <tbody>\n",
       "    <tr>\n",
       "      <th>0</th>\n",
       "      <td>ATGCCCCAACTAAATACCGCCGTATGACCCACCATAATTACCCCCA...</td>\n",
       "      <td>4</td>\n",
       "    </tr>\n",
       "    <tr>\n",
       "      <th>1</th>\n",
       "      <td>ATGAACGAAAATCTATTCGCTTCATTCGCTGCCCCCACAATCCTAG...</td>\n",
       "      <td>4</td>\n",
       "    </tr>\n",
       "    <tr>\n",
       "      <th>2</th>\n",
       "      <td>ATGGCCTCGCGCTGGTGGCGGTGGCGACGCGGCTGCTCCTGGAGGC...</td>\n",
       "      <td>4</td>\n",
       "    </tr>\n",
       "    <tr>\n",
       "      <th>3</th>\n",
       "      <td>ATGGCCTCGCGCTGGTGGCGGTGGCGACGCGGCTGCTCCTGGAGGC...</td>\n",
       "      <td>4</td>\n",
       "    </tr>\n",
       "    <tr>\n",
       "      <th>4</th>\n",
       "      <td>ATGGGCAGCGCCAGCCCGGGTCTGAGCAGCGTGTCCCCCAGCCACC...</td>\n",
       "      <td>6</td>\n",
       "    </tr>\n",
       "  </tbody>\n",
       "</table>\n",
       "</div>"
      ],
      "text/plain": [
       "                                            sequence  class\n",
       "0  ATGCCCCAACTAAATACCGCCGTATGACCCACCATAATTACCCCCA...      4\n",
       "1  ATGAACGAAAATCTATTCGCTTCATTCGCTGCCCCCACAATCCTAG...      4\n",
       "2  ATGGCCTCGCGCTGGTGGCGGTGGCGACGCGGCTGCTCCTGGAGGC...      4\n",
       "3  ATGGCCTCGCGCTGGTGGCGGTGGCGACGCGGCTGCTCCTGGAGGC...      4\n",
       "4  ATGGGCAGCGCCAGCCCGGGTCTGAGCAGCGTGTCCCCCAGCCACC...      6"
      ]
     },
     "execution_count": 6,
     "metadata": {},
     "output_type": "execute_result"
    }
   ],
   "source": [
    "chimp_dna = pd.read_table('chimpanzee.txt')\n",
    "chimp_dna.head()"
   ]
  },
  {
   "cell_type": "code",
   "execution_count": 7,
   "metadata": {},
   "outputs": [
    {
     "data": {
      "text/plain": [
       "Text(0.5, 1.0, 'Class distribution of Chimpanzee DNA')"
      ]
     },
     "execution_count": 7,
     "metadata": {},
     "output_type": "execute_result"
    },
    {
     "data": {
      "image/png": "[encoded data removed]",
      "text/plain": [
       "<Figure size 640x480 with 1 Axes>"
      ]
     },
     "metadata": {},
     "output_type": "display_data"
    }
   ],
   "source": [
    "chimp_dna['class'].value_counts().sort_index().plot.bar()\n",
    "plt.title(\"Class distribution of Chimpanzee DNA\")"
   ]
  },
  {
   "cell_type": "code",
   "execution_count": 8,
   "metadata": {},
   "outputs": [
    {
     "data": {
      "text/html": [
       "<div>\n",
       "<style scoped>\n",
       "    .dataframe tbody tr th:only-of-type {\n",
       "        vertical-align: middle;\n",
       "    }\n",
       "\n",
       "    .dataframe tbody tr th {\n",
       "        vertical-align: top;\n",
       "    }\n",
       "\n",
       "    .dataframe thead th {\n",
       "        text-align: right;\n",
       "    }\n",
       "</style>\n",
       "<table border=\"1\" class=\"dataframe\">\n",
       "  <thead>\n",
       "    <tr style=\"text-align: right;\">\n",
       "      <th></th>\n",
       "      <th>sequence</th>\n",
       "      <th>class</th>\n",
       "    </tr>\n",
       "  </thead>\n",
       "  <tbody>\n",
       "    <tr>\n",
       "      <th>0</th>\n",
       "      <td>ATGCCACAGCTAGATACATCCACCTGATTTATTATAATCTTTTCAA...</td>\n",
       "      <td>4</td>\n",
       "    </tr>\n",
       "    <tr>\n",
       "      <th>1</th>\n",
       "      <td>ATGAACGAAAATCTATTCGCTTCTTTCGCTGCCCCCTCAATAATAG...</td>\n",
       "      <td>4</td>\n",
       "    </tr>\n",
       "    <tr>\n",
       "      <th>2</th>\n",
       "      <td>ATGGAAACACCCTTCTACGGCGATGAGGCGCTGAGCGGCCTGGGCG...</td>\n",
       "      <td>6</td>\n",
       "    </tr>\n",
       "    <tr>\n",
       "      <th>3</th>\n",
       "      <td>ATGTGCACTAAAATGGAACAGCCCTTCTACCACGACGACTCATACG...</td>\n",
       "      <td>6</td>\n",
       "    </tr>\n",
       "    <tr>\n",
       "      <th>4</th>\n",
       "      <td>ATGAGCCGGCAGCTAAACAGAAGCCAGAACTGCTCCTTCAGTGACG...</td>\n",
       "      <td>0</td>\n",
       "    </tr>\n",
       "  </tbody>\n",
       "</table>\n",
       "</div>"
      ],
      "text/plain": [
       "                                            sequence  class\n",
       "0  ATGCCACAGCTAGATACATCCACCTGATTTATTATAATCTTTTCAA...      4\n",
       "1  ATGAACGAAAATCTATTCGCTTCTTTCGCTGCCCCCTCAATAATAG...      4\n",
       "2  ATGGAAACACCCTTCTACGGCGATGAGGCGCTGAGCGGCCTGGGCG...      6\n",
       "3  ATGTGCACTAAAATGGAACAGCCCTTCTACCACGACGACTCATACG...      6\n",
       "4  ATGAGCCGGCAGCTAAACAGAAGCCAGAACTGCTCCTTCAGTGACG...      0"
      ]
     },
     "execution_count": 8,
     "metadata": {},
     "output_type": "execute_result"
    }
   ],
   "source": [
    "dog_dna = pd.read_table('dog.txt')\n",
    "dog_dna.head()"
   ]
  },
  {
   "cell_type": "code",
   "execution_count": 9,
   "metadata": {},
   "outputs": [
    {
     "data": {
      "text/plain": [
       "Text(0.5, 1.0, 'Class distribution of Dog DNA')"
      ]
     },
     "execution_count": 9,
     "metadata": {},
     "output_type": "execute_result"
    },
    {
     "data": {
      "image/png": "[encoded data removed]",
      "text/plain": [
       "<Figure size 640x480 with 1 Axes>"
      ]
     },
     "metadata": {},
     "output_type": "display_data"
    }
   ],
   "source": [
    "dog_dna['class'].value_counts().sort_index().plot.bar()\n",
    "plt.title(\"Class distribution of Dog DNA\")"
   ]
  },
  {
   "cell_type": "code",
   "execution_count": 10,
   "metadata": {},
   "outputs": [
    {
     "name": "stdout",
     "output_type": "stream",
     "text": [
      "Human DNA shape:  (4380, 2)\n",
      "Chimpanzee DNA shape:  (1682, 2)\n",
      "Dog DNA shape:  (820, 2)\n"
     ]
    }
   ],
   "source": [
    "print(\"Human DNA shape: \", human_dna.shape)\n",
    "print(\"Chimpanzee DNA shape: \", chimp_dna.shape)\n",
    "print(\"Dog DNA shape: \", dog_dna.shape)"
   ]
  },
  {
   "cell_type": "code",
   "execution_count": null,
   "metadata": {},
   "outputs": [],
   "source": [
    "\n",
    "\n",
    "# function to calculate accuracy of the model\n",
    "# returns the accuracy of the model\n",
    "def calculate_accuracy(distance_matrix, data):\n",
    "    data[args.df_predicted_label_field_name] = ''\n",
    "    for i in range(len(distance_matrix)):\n",
    "        # return the indices of maximum K values in the distance matrix\n",
    "        #indices = np.argpartition(distance_matrix[i], -args.k)[-args.k:]\n",
    "\n",
    "        indices = np.argpartition(distance_matrix[i], args.k)[:args.k]\n",
    "        \n",
    "        # get the labels of the indices\n",
    "        labels = data.iloc[indices, data.columns.get_loc(args.df_label_field_name)].values.tolist()\n",
    "        # get the unique labels and their counts\n",
    "        unique_labels, counts = np.unique(labels, return_counts=True)\n",
    "        # get the label with the maximum count\n",
    "        label = unique_labels[np.argmax(counts)]\n",
    "        # set the label of the test entry to the predicted label field\n",
    "        \n",
    "\n",
    "        sorted_idx = np.argsort(np.array(distance_matrix[i]))\n",
    "        top_k_class = list(data.iloc[sorted_idx[:args.k], data.columns.get_loc(args.df_label_field_name)])\n",
    "        \n",
    "        print(label, top_k_class)\n",
    "        label = max(set(top_k_class), key = top_k_class.count)\n",
    "        \n",
    "        data.iloc[i, data.columns.get_loc(args.df_predicted_label_field_name)] = label\n",
    " \n",
    "\n",
    "    accuracy = len(data[data[args.df_label_field_name] == data[args.df_predicted_label_field_name]])/len(data)\n",
    "    # return the accuracy at call level\n",
    "    # get unique values of call_record_id\n",
    "    unique_call_record_ids = data['call_record_id'].unique()\n",
    "    # iterate over each call_record_id and calculate accuracy\n",
    "    accuracy2 = 0\n",
    "    for call_record_id in unique_call_record_ids:\n",
    "        if len(data[(data['call_record_id'] == call_record_id) & (data[args.df_label_field_name] == data[args.df_predicted_label_field_name])]) == 2:\n",
    "            accuracy2 += 1\n",
    "\n",
    "    print(accuracy, accuracy2/len(unique_call_record_ids),len(data))\n",
    "\n",
    "    # create a new dataframe\n",
    "    new_data = pd.DataFrame(columns=data.columns)\n",
    "\n",
    "    subcount = 0\n",
    "    # iterate over each call_record_id\n",
    "    for call_record_id in unique_call_record_ids:\n",
    "        # get the rows with the current call_record_id\n",
    "        rows = data[data['call_record_id'] == call_record_id]\n",
    "\n",
    "        if len(rows[rows[args.df_label_field_name] == rows[args.df_predicted_label_field_name]]) == 2:\n",
    "            new_data = new_data.append(rows.iloc[0])\n",
    "            new_data = new_data.append(rows.iloc[1])\n",
    "            subcount += 1\n",
    "\n",
    "    # subsubcount = 0\n",
    "    # for call_record_id in unique_call_record_ids:\n",
    "    #     # get the rows with the current call_record_id\n",
    "    #     rows = data[data['call_record_id'] == call_record_id]\n",
    "\n",
    "    #     if len(rows[rows[args.df_label_field_name] == rows[args.df_predicted_label_field_name]]) == 1 and subsubcount <= 0.1*subcount:\n",
    "    #         new_data = new_data.append(rows.iloc[0])\n",
    "    #         new_data = new_data.append(rows.iloc[1])\n",
    "    #         subsubcount += 1\n",
    "\n",
    "    data = new_data\n",
    "\n",
    "    unique_call_record_ids = data['call_record_id'].unique()\n",
    "\n",
    "\n",
    "    accuracy = len(data[data[args.df_label_field_name] == data[args.df_predicted_label_field_name]])/len(data)\n",
    "    \n",
    "    # iterate over each call_record_id and calculate accuracy\n",
    "    accuracy2 = 0\n",
    "    for call_record_id in unique_call_record_ids:\n",
    "        if len(data[(data['call_record_id'] == call_record_id) & (data[args.df_label_field_name] == data[args.df_predicted_label_field_name])]) == 2:\n",
    "            accuracy2 += 1\n",
    "\n",
    "    print(accuracy, accuracy2/len(unique_call_record_ids),len(data))\n",
    "\n",
    "    return  data\n",
    "\n",
    "def main():\n",
    "    # create a pool of processes\n",
    "    pool = Pool(args.num_processors)\n",
    "    train, test, all_data = read_data(args.data_folder)\n",
    "    print(train.head())\n",
    "    print(test.head())\n",
    "\n",
    "\n",
    "    print(train.head())\n",
    "    print(test.head())\n",
    "    print(all_data.head())\n",
    "    print(train.shape)\n",
    "    print(test.shape)\n",
    "    print(all_data.shape)\n",
    "\n",
    "    \n",
    "    # create distance matrix, if distance matrix is not manually given\n",
    "    if args.distance_matrix_file is None:\n",
    "        distance_matrix = create_distance_matrix(all_data, all_data, pool)\n",
    "        # save distance matrix to file. The file name should be in the format distance_matrix_<unixtime>.npy\n",
    "        np.save(os.path.join(args.output_folder, 'distance_matrix_{}.npy'.format(int(time.time()))), distance_matrix)\n",
    "\n",
    "    else:\n",
    "        # load distance matrix from file\n",
    "        distance_matrix = np.load(args.distance_matrix_file)\n",
    "    \n",
    "    print(distance_matrix)\n",
    "    print(distance_matrix.shape)\n",
    "\n",
    "    new_data  = calculate_accuracy(distance_matrix, all_data)\n",
    "\n",
    "    print(new_data.head())\n",
    "    print(new_data.shape)\n",
    "    new_data.to_csv(os.path.join(args.output_folder, 'new_data_{}.csv'.format(int(time.time()))), index=False)\n",
    "\n",
    "    # create a new dataset\n",
    "    #new_data = create_new_dataset(new_data)\n",
    "    \n",
    "\n",
    "if __name__ == '__main__':\n",
    "    parser = argparse.ArgumentParser(description='Run a multi-process experiment.')\n",
    "    parser.add_argument('--num_processors', type=int, help='number of processors to run', default=1)\n",
    "    parser.add_argument('--data_folder', type=str, help='folder containing data', default='step4')\n",
    "    parser.add_argument('--output_folder', type=str, help='folder to output results', default='output')\n",
    "    parser.add_argument('--num_words', type=int, help='number of words in each chunk', default=0)\n",
    "    parser.add_argument('--df_text_field_name', type=str, help='name of field in dataframe to chunk', default='text')\n",
    "    parser.add_argument('--df_label_field_name', type=str, help='name of field in dataframe to use as index', default='speaker')\n",
    "    parser.add_argument('--df_predicted_label_field_name', type=str, help='name of field in dataframe to use as index', default='predicted_speaker')\n",
    "    parser.add_argument('--distance_matrix_file', type=str, help='file containing distance matrix', default=None)\n",
    "    \n",
    "    parser.add_argument('--k', type=int, help='number of nearest neighbors to use', default=5)\n",
    "\n",
    "    args = parser.parse_args()\n",
    "\n",
    "    print(args.num_processors)\n",
    "    print(args.data_folder)\n",
    "    main()"
   ]
  }
 ],
 "metadata": {
  "kernelspec": {
   "display_name": "GenomClassification",
   "language": "python",
   "name": "python3"
  },
  "language_info": {
   "codemirror_mode": {
    "name": "ipython",
    "version": 3
   },
   "file_extension": ".py",
   "mimetype": "text/x-python",
   "name": "python",
   "nbconvert_exporter": "python",
   "pygments_lexer": "ipython3",
   "version": "3.12.0"
  }
 },
 "nbformat": 4,
 "nbformat_minor": 2
}
